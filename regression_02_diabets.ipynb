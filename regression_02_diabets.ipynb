{
 "cells": [
  {
   "cell_type": "code",
   "execution_count": 4,
   "metadata": {},
   "outputs": [],
   "source": [
    "# Импорт библиотек \n",
    "import numpy as np\n",
    "\n",
    "from openneuron.units import Neuron\n",
    "from openneuron.layers import Layer, Dropout\n",
    "from openneuron.models import NeuralNetwork\n",
    "from openneuron.optimizers import SGD, Adam\n",
    "from openneuron.functions import *\n",
    "from openneuron.activations import *\n",
    "from openneuron.utils import *\n",
    "\n",
    "from sklearn.datasets import load_diabetes\n",
    "from sklearn.model_selection import train_test_split\n",
    "from sklearn.preprocessing import StandardScaler"
   ]
  },
  {
   "cell_type": "code",
   "execution_count": 7,
   "metadata": {},
   "outputs": [
    {
     "name": "stdout",
     "output_type": "stream",
     "text": [
      "Training started with Overall Loss 25118.4426\n",
      "Epoch 1/100, Loss: 30191.2073, Validation Loss: 24827.2506\n",
      "Epoch 11/100, Loss: 4554.7978, Validation Loss: 2456.70105\n",
      "Epoch 21/100, Loss: 3723.8487, Validation Loss: 1937.9547\n",
      "Epoch 31/100, Loss: 3721.9306, Validation Loss: 1979.6353\n",
      "Epoch 41/100, Loss: 3538.4593, Validation Loss: 1995.4897\n",
      "Epoch 51/100, Loss: 3343.4482, Validation Loss: 1949.2971\n",
      "Epoch 61/100, Loss: 3548.1915, Validation Loss: 1959.1644\n",
      "Epoch 71/100, Loss: 3056.3046, Validation Loss: 1980.2590\n",
      "Epoch 81/100, Loss: 3315.3428, Validation Loss: 1957.8100\n",
      "Epoch 91/100, Loss: 3564.3263, Validation Loss: 2005.7899\n",
      "Epoch 100/100, Loss: 3240.2808, Validation Loss: 2004.0315\n",
      "Training completed with Overall Loss 2004.0315\n",
      "Predictions:\n",
      "[[155.46]\n",
      " ...\n",
      " [238.49]]\n",
      "MSE on Test Data: 2004.0315\n",
      "MAE on Test Data: 34.8243\n",
      "Network type: \"Regression\", layers: 2, neurons: 21, optimizer: \"Adam\", epochs: 100, batch size: 8-32, loss function: \"Mean Squared Error\"\n",
      "Layer 1, neurons: 20, activation: leaky_relu\n",
      "Neuron 1, inputs: [-0.12 ...  1.2 ], weights: [2.64 ... 0.75], bias: 3.1888, z: 3.6155, activation: leaky_relu, a: 3.6155\n",
      "Neuron 2, inputs: [-0.12 ...  1.2 ], weights: [-1.53 ...  0.2 ], bias: 3.3925, z: 8.9797, activation: leaky_relu, a: 8.9797\n",
      "...\n",
      "Neuron 19, inputs: [-0.12 ...  1.2 ], weights: [-0.89 ... -1.25], bias: 3.2852, z: 3.3520, activation: leaky_relu, a: 3.3520\n",
      "Neuron 20, inputs: [-0.12 ...  1.2 ], weights: [0.9  ... 0.23], bias: 4.3688, z: 5.4328, activation: leaky_relu, a: 5.4328\n",
      "Layer 2, neurons: 1, activation: linear/none\n",
      "Neuron 21, inputs: [3.62 ... 5.43], weights: [2.3  ... 2.01], bias: 3.2817, z: 238.4879, activation: linear/none, a: 238.4879\n"
     ]
    }
   ],
   "source": [
    "# Пример решения Diabets Regression\n",
    "# Настройка вывода для удобочитаемости\n",
    "np.set_printoptions(precision=2, suppress=True, threshold=6, edgeitems=1, linewidth=80)\n",
    "\n",
    "# Загрузка данных\n",
    "diabetes = load_diabetes()\n",
    "X, y = diabetes.data, diabetes.target.reshape(-1, 1)\n",
    "\n",
    "# Масштабирование данных\n",
    "scaler = StandardScaler()\n",
    "# scaler = PowerTransformer(method='yeo-johnson')\n",
    "X_scaled = scaler.fit_transform(X)\n",
    "\n",
    "# Разделение на обучающую и тестовую выборки\n",
    "X_train, X_test, y_train, y_test = train_test_split(X_scaled, y, test_size=0.2)\n",
    "\n",
    "# Создание и обучение модели\n",
    "nn = NeuralNetwork([\n",
    "    Layer(20, activation=leaky_relu),\n",
    "    Dropout(0.2),\n",
    "    Layer(1, activation=linear)\n",
    "], inputs_dim=X_train.shape[1], loss='mse', optimizer=Adam())\n",
    "\n",
    "nn.fit(X_train, y_train, learning_rate=0.01, epochs=100, batch_size=8, final_batch_size=32, validation_data=(X_test, y_test))\n",
    "\n",
    "# Предсказание на тестовых данных\n",
    "predictions = nn.predict(X_test)\n",
    "print(f'Predictions:\\n{predictions}')\n",
    "mse_test = np.mean(np.square(predictions - y_test))\n",
    "mae_test = np.mean(np.abs(predictions - y_test))\n",
    "print(f'MSE on Test Data: {mse_test:.4f}')\n",
    "print(f'MAE on Test Data: {mae_test:.4f}')\n",
    "\n",
    "network_summary(nn)"
   ]
  }
 ],
 "metadata": {
  "kernelspec": {
   "display_name": "Python 3",
   "language": "python",
   "name": "python3"
  },
  "language_info": {
   "codemirror_mode": {
    "name": "ipython",
    "version": 3
   },
   "file_extension": ".py",
   "mimetype": "text/x-python",
   "name": "python",
   "nbconvert_exporter": "python",
   "pygments_lexer": "ipython3",
   "version": "3.11.2"
  }
 },
 "nbformat": 4,
 "nbformat_minor": 2
}
