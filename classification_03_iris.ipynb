{
 "cells": [
  {
   "cell_type": "code",
   "execution_count": 1,
   "metadata": {},
   "outputs": [],
   "source": [
    "# Импорт библиотек \n",
    "import numpy as np\n",
    "\n",
    "from openneuron.units import Neuron\n",
    "from openneuron.layers import Layer\n",
    "from openneuron.models import NeuralNetwork\n",
    "from openneuron.optimizers import SGD, Adam\n",
    "from openneuron.functions import *\n",
    "from openneuron.losses import *\n",
    "from openneuron.activations import *\n",
    "from openneuron.utils import *\n",
    "\n",
    "from sklearn.datasets import load_iris\n",
    "from sklearn.model_selection import train_test_split\n",
    "from sklearn.preprocessing import StandardScaler\n",
    "from sklearn.preprocessing import OneHotEncoder"
   ]
  },
  {
   "cell_type": "code",
   "execution_count": 3,
   "metadata": {},
   "outputs": [
    {
     "name": "stdout",
     "output_type": "stream",
     "text": [
      "Training started with Overall Loss 1.6396 on Test Data\n",
      "Epoch 1/10, Loss: 1.0548, Validation Loss: 0.8477 on Test Data\n",
      "Epoch 2/10, Loss: 0.7275, Validation Loss: 0.5790 on Test Data\n",
      "Epoch 3/10, Loss: 0.4405, Validation Loss: 0.4833 on Test Data\n",
      "Epoch 4/10, Loss: 0.3692, Validation Loss: 0.3505 on Test Data\n",
      "Epoch 5/10, Loss: 0.3413, Validation Loss: 0.2962 on Test Data\n",
      "Epoch 6/10, Loss: 0.3006, Validation Loss: 0.3172 on Test Data\n",
      "Epoch 7/10, Loss: 0.2321, Validation Loss: 0.2271 on Test Data\n",
      "Epoch 8/10, Loss: 0.1798, Validation Loss: 0.2430 on Test Data\n",
      "Epoch 9/10, Loss: 0.1545, Validation Loss: 0.3082 on Test Data\n",
      "Epoch 10/10, Loss: 0.1465, Validation Loss: 0.1896 on Test Data\n",
      "Training completed with Overall Loss 0.1896\n",
      "\n",
      "Network scores\n",
      "Incorrect Predictions (Significant Difference) on Test Data:\n",
      "Input: [6.00 2.70 5.10 1.60], Predicted: [0.00 0.20 0.80], True: [0 1 0], Predicted Class: 2, True Class: 1\n",
      "Input: [5.90 3.20 4.80 1.80], Predicted: [0.00 0.41 0.59], True: [0 1 0], Predicted Class: 2, True Class: 1\n",
      "Accuracy: 93.33%\n",
      "Precision: 0.94\n",
      "Recall: 0.93\n",
      "F1 Score: 0.93\n",
      "\n",
      "Network type: \"Classification\", layers: 2, neurons: 7, optimizer: \"Adam\", epochs: 10, batch size: 1, loss function: \"Categorical Crossentropy\"\n",
      "Layer 1, neurons: 4, activation: swish\n",
      "Neuron 1, inputs: [5.1 3.7 1.5 0.4], weights: [-0.1  -0.62  1.05  1.89], bias: -0.9710, z: -1.4705, activation: linear, a: -0.2748\n",
      "Neuron 2, inputs: [5.1 3.7 1.5 0.4], weights: [ 0.17 -0.12 -0.45 -1.06], bias: 0.5436, z: -0.1240, activation: linear, a: -0.0582\n",
      "Neuron 3, inputs: [5.1 3.7 1.5 0.4], weights: [-0.14 -0.4   0.63  0.92], bias: -0.5237, z: -1.4220, activation: linear, a: -0.2764\n",
      "Neuron 4, inputs: [5.1 3.7 1.5 0.4], weights: [ 0.77  0.88 -0.38 -0.32], bias: 0.4550, z: 6.9581, activation: linear, a: 6.9515\n",
      "Layer 2, neurons: 3, activation: softmax\n",
      "Neuron 5, inputs: [-0.27 -0.06 -0.28  6.95], weights: [-2.14 -1.02 -1.68  0.91], bias: 0.5196, z: 7.9644, activation: linear, a: 0.9927\n",
      "Neuron 6, inputs: [-0.27 -0.06 -0.28  6.95], weights: [ 0.08 -0.66 -0.62  0.43], bias: -0.1614, z: 3.0457, activation: linear, a: 0.0073\n",
      "Neuron 7, inputs: [-0.27 -0.06 -0.28  6.95], weights: [ 0.99  1.62  1.06 -0.74], bias: -0.4427, z: -6.2738, activation: linear, a: 0.0000\n"
     ]
    }
   ],
   "source": [
    "# Пример решения Iris Classification\n",
    "# Настройка вывода для удобочитаемости\n",
    "np.set_printoptions(precision=2, suppress=True, threshold=6, edgeitems=1, linewidth=80)\n",
    "  \n",
    "# Пример использования\n",
    "iris = load_iris()\n",
    "X, y = iris.data, iris.target\n",
    "\n",
    "# One-hot кодирование меток\n",
    "encoder = OneHotEncoder(sparse_output=False)\n",
    "y = encoder.fit_transform(y.reshape(-1, 1))\n",
    "\n",
    "# Разделение данных на обучающую и тестовую выборки\n",
    "X_train, X_test, y_train, y_test = train_test_split(X, y, test_size=0.2)\n",
    "\n",
    "# Масштабирование данных\n",
    "scaler = StandardScaler()\n",
    "X_train_scaled = scaler.fit_transform(X_train)\n",
    "X_test_scaled = scaler.transform(X_test)\n",
    "\n",
    "# Размерность входных и выходных данных\n",
    "inputs_dim = X.shape[1]\n",
    "output_size = y.shape[1]\n",
    "\n",
    "nn = NeuralNetwork([\n",
    "    Layer(4, activation=swish),\n",
    "    Layer(output_size, activation=softmax)\n",
    "], inputs_dim=inputs_dim, loss='categorical_crossentropy', optimizer=Adam(learning_rate=0.01))\n",
    "\n",
    "nn.fit(X_train, y_train, epochs=10, validation_data=(X_test, y_test))\n",
    "\n",
    "# Предсказание на тестовых данных\n",
    "predictions = nn.predict(X_test)\n",
    "# print(f'Predictions:\\n{predictions}')\n",
    "\n",
    "print()\n",
    "network_scores(X_test, y_test, predictions)  # только для классификации (в разработке)\n",
    "print()\n",
    "network_summary(nn)"
   ]
  }
 ],
 "metadata": {
  "kernelspec": {
   "display_name": "Python 3",
   "language": "python",
   "name": "python3"
  },
  "language_info": {
   "codemirror_mode": {
    "name": "ipython",
    "version": 3
   },
   "file_extension": ".py",
   "mimetype": "text/x-python",
   "name": "python",
   "nbconvert_exporter": "python",
   "pygments_lexer": "ipython3",
   "version": "3.11.2"
  }
 },
 "nbformat": 4,
 "nbformat_minor": 2
}
