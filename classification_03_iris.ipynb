{
 "cells": [
  {
   "cell_type": "code",
   "execution_count": 1,
   "metadata": {},
   "outputs": [],
   "source": [
    "# Импорт библиотек \n",
    "import numpy as np\n",
    "\n",
    "from openneuron.units import Neuron\n",
    "from openneuron.layers import Layer\n",
    "from openneuron.models import NeuralNetwork\n",
    "from openneuron.optimizers import SGD, Adam\n",
    "from openneuron.functions import *\n",
    "from openneuron.activations import *\n",
    "from openneuron.utils import *\n",
    "\n",
    "from sklearn.datasets import load_iris\n",
    "from sklearn.model_selection import train_test_split\n",
    "from sklearn.preprocessing import StandardScaler\n",
    "from sklearn.preprocessing import OneHotEncoder"
   ]
  },
  {
   "cell_type": "code",
   "execution_count": 24,
   "metadata": {},
   "outputs": [
    {
     "name": "stdout",
     "output_type": "stream",
     "text": [
      "Training started with Overall Loss 1.4763\n",
      "Epoch 1/10, Loss: 1.1015, Validation Loss: 0.9445\n",
      "Epoch 2/10, Loss: 0.7905, Validation Loss: 0.5133\n",
      "Epoch 3/10, Loss: 0.4720, Validation Loss: 0.3151\n",
      "Epoch 4/10, Loss: 0.3219, Validation Loss: 0.2487\n",
      "Epoch 5/10, Loss: 0.2472, Validation Loss: 0.2066\n",
      "Epoch 6/10, Loss: 0.1958, Validation Loss: 0.1641\n",
      "Epoch 7/10, Loss: 0.1670, Validation Loss: 0.1280\n",
      "Epoch 8/10, Loss: 0.1413, Validation Loss: 0.1658\n",
      "Epoch 9/10, Loss: 0.1636, Validation Loss: 0.2157\n",
      "Epoch 10/10, Loss: 0.1429, Validation Loss: 0.1590\n",
      "Training completed with Overall Loss 0.1590\n",
      "\n",
      "Network scores\n",
      "Incorrect Predictions (Significant Difference) on Test Data:\n",
      "Input: [6.30 2.50 4.90 1.50], Predicted: [0.00 0.16 0.84], True: [0 1 0], Predicted Class: 2, True Class: 1\n",
      "Input: [6.70 3.00 5.00 1.70], Predicted: [0.00 0.27 0.73], True: [0 1 0], Predicted Class: 2, True Class: 1\n",
      "Accuracy: 93.33%\n",
      "Precision: 0.94\n",
      "Recall: 0.93\n",
      "F1 Score: 0.93\n",
      "\n",
      "Network type: \"Classification\", layers: 2, neurons: 7, optimizer: \"Adam\", epochs: 10, batch size: 1, loss function: \"Categorical Crossentropy\"\n",
      "Layer 1, neurons: 4, activation: swish\n",
      "Neuron 1, inputs: [5.8 2.7 3.9 1.2], weights: [ 0.09 -0.1  -1.02 -1.43], bias: 0.3357, z: -5.0884, activation: swish, a: -0.0312\n",
      "Neuron 2, inputs: [5.8 2.7 3.9 1.2], weights: [-0.25 -0.51  0.27 -0.03], bias: -0.2189, z: -2.0233, activation: swish, a: -0.2363\n",
      "Neuron 3, inputs: [5.8 2.7 3.9 1.2], weights: [ 0.58  0.8  -0.73 -1.51], bias: 1.2531, z: 2.1341, activation: swish, a: 1.9082\n",
      "Neuron 4, inputs: [5.8 2.7 3.9 1.2], weights: [ 0.46 -0.4   0.95  1.23], bias: -0.5161, z: 6.2497, activation: swish, a: 6.2377\n",
      "Layer 2, neurons: 3, activation: softmax\n",
      "Neuron 5, inputs: [-0.03 -0.24  1.91  6.24], weights: [-0.84 -0.05  1.59 -1.1 ], bias: -0.4108, z: -4.2321, activation: linear/none, a: -4.2321\n",
      "Neuron 6, inputs: [-0.03 -0.24  1.91  6.24], weights: [ 0.57 -0.45  0.32  0.12], bias: -0.3308, z: 1.1132, activation: linear/none, a: 1.1132\n",
      "Neuron 7, inputs: [-0.03 -0.24  1.91  6.24], weights: [ 0.73 -0.47 -3.12  0.65], bias: -0.1059, z: -1.8823, activation: linear/none, a: -1.8823\n"
     ]
    }
   ],
   "source": [
    "# Пример решения Iris Classification\n",
    "# Настройка вывода для удобочитаемости\n",
    "np.set_printoptions(precision=2, suppress=True, threshold=6, edgeitems=1, linewidth=80)\n",
    "  \n",
    "# Пример использования\n",
    "iris = load_iris()\n",
    "X, y = iris.data, iris.target\n",
    "\n",
    "# One-hot кодирование меток\n",
    "encoder = OneHotEncoder(sparse_output=False)\n",
    "y = encoder.fit_transform(y.reshape(-1, 1))\n",
    "\n",
    "# Разделение данных на обучающую и тестовую выборки\n",
    "X_train, X_test, y_train, y_test = train_test_split(X, y, test_size=0.2)\n",
    "\n",
    "# Масштабирование данных\n",
    "scaler = StandardScaler()\n",
    "X_train_scaled = scaler.fit_transform(X_train)\n",
    "X_test_scaled = scaler.transform(X_test)\n",
    "\n",
    "# Размерность входных и выходных данных\n",
    "inputs_dim = X.shape[1]\n",
    "output_size = y.shape[1]\n",
    "\n",
    "nn = NeuralNetwork([\n",
    "    Layer(4, activation=swish),\n",
    "    Layer(output_size, activation=softmax)\n",
    "], inputs_dim=inputs_dim, loss='categorical_crossentropy', optimizer=Adam())\n",
    "\n",
    "nn.fit(X_train, y_train, learning_rate=0.01, epochs=10, validation_data=(X_test, y_test))\n",
    "\n",
    "# Предсказание на тестовых данных\n",
    "predictions = nn.predict(X_test)\n",
    "# print(f'Predictions:\\n{predictions}')\n",
    "\n",
    "print()\n",
    "network_scores(X_test, y_test, predictions)  # только для классификации (в разработке)\n",
    "print()\n",
    "network_summary(nn)"
   ]
  }
 ],
 "metadata": {
  "kernelspec": {
   "display_name": "Python 3",
   "language": "python",
   "name": "python3"
  },
  "language_info": {
   "codemirror_mode": {
    "name": "ipython",
    "version": 3
   },
   "file_extension": ".py",
   "mimetype": "text/x-python",
   "name": "python",
   "nbconvert_exporter": "python",
   "pygments_lexer": "ipython3",
   "version": "3.11.2"
  }
 },
 "nbformat": 4,
 "nbformat_minor": 2
}
