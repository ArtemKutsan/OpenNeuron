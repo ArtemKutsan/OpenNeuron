{
 "cells": [
  {
   "cell_type": "code",
   "execution_count": 1,
   "metadata": {},
   "outputs": [],
   "source": [
    "# Импорт библиотек \n",
    "import numpy as np\n",
    "\n",
    "from openneuron.units import Unit\n",
    "from openneuron.layers import Layer\n",
    "from openneuron.models import NeuralNetwork\n",
    "from openneuron.optimizers import SGD, Adam\n",
    "from openneuron.losses import *\n",
    "from openneuron.activations import *\n",
    "from openneuron.utils import *\n",
    "\n",
    "from sklearn.datasets import load_iris\n",
    "from sklearn.model_selection import train_test_split\n",
    "from sklearn.preprocessing import StandardScaler\n",
    "from sklearn.preprocessing import OneHotEncoder"
   ]
  },
  {
   "cell_type": "code",
   "execution_count": 10,
   "metadata": {},
   "outputs": [
    {
     "name": "stdout",
     "output_type": "stream",
     "text": [
      "Training started with Overall Loss 2.2014 on Test Data\n",
      "Epoch 1/10, Loss: 1.5512, Validation Loss: 0.9106 on Test Data\n",
      "Epoch 2/10, Loss: 0.7970, Validation Loss: 0.7143 on Test Data\n",
      "Epoch 3/10, Loss: 0.6255, Validation Loss: 0.6149 on Test Data\n",
      "Epoch 4/10, Loss: 0.5367, Validation Loss: 0.5704 on Test Data\n",
      "Epoch 5/10, Loss: 0.4809, Validation Loss: 0.5037 on Test Data\n",
      "Epoch 6/10, Loss: 0.4346, Validation Loss: 0.4490 on Test Data\n",
      "Epoch 7/10, Loss: 0.3904, Validation Loss: 0.4008 on Test Data\n",
      "Epoch 8/10, Loss: 0.3397, Validation Loss: 0.3874 on Test Data\n",
      "Epoch 9/10, Loss: 0.3126, Validation Loss: 0.3132 on Test Data\n",
      "Epoch 10/10, Loss: 0.2846, Validation Loss: 0.2802 on Test Data\n",
      "Training completed with Overall Loss 0.2802\n",
      "\n",
      "Network scores:\n",
      "Incorrect Predictions (Significant Difference) on Test Data:\n",
      "Network inputs: [6.00 2.70 5.10 1.60], predicted: [0.01 0.29 0.70], true: [0 1 0], predicted class: 2, true class: 1\n",
      "Accuracy: 96.67%\n",
      "Precision: 0.97\n",
      "Recall: 0.97\n",
      "F1 Score: 0.97\n",
      "\n",
      "Info:\n",
      "Network type: \"Classification\", layers: 2, neurons: 7, optimizer: \"Adam\", epochs: 10, batch size: 1, loss function: \"Categorical Crossentropy\"\n",
      "Last forward:\n",
      "Layer 1, neurons: 4, inputs: [5.9 3.  5.1 1.8], activation: swish, output (a): [-0.   -0.07 -0.07 -0.  ]\n",
      "Unit 1/4, inputs: [5.9 3.0 5.1 1.8], weights: [-0.08 0.15 -1.31 -1.25], bias: 0.57, z: -8.38, activation: swish, a: -0.0\n",
      "Unit 2/4, inputs: [5.9 3.0 5.1 1.8], weights: [0.66 0.94 -1.28 -0.68], bias: 0.87, z: -0.14, activation: swish, a: -0.07\n",
      "Unit 3/4, inputs: [5.9 3.0 5.1 1.8], weights: [0.24 0.06 -0.81 -0.63], bias: -0.46, z: -4.14, activation: swish, a: -0.07\n",
      "Unit 4/4, inputs: [5.9 3.0 5.1 1.8], weights: [-0.38 0.72 -0.81 -1.58], bias: -0.29, z: -7.38, activation: swish, a: -0.0\n",
      "Layer 2, neurons: 3, inputs: [-0.   -0.07 -0.07 -0.  ], activation: softmax, output (a): [0.02 0.3  0.68]\n",
      "Unit 1/3, inputs: [-0.0 -0.07 -0.07 -0.0], weights: [-1.79 1.17 -0.31 -2.36], bias: -1.91, z: -1.96, activation: linear/none, a: -1.96\n",
      "Unit 2/3, inputs: [-0.0 -0.07 -0.07 -0.0], weights: [1.5 0.23 -0.25 0.96], bias: 1.04, z: 1.03, activation: linear/none, a: 1.03\n",
      "Unit 3/3, inputs: [-0.0 -0.07 -0.07 -0.0], weights: [0.49 -2.36 1.29 2.77], bias: 1.79, z: 1.85, activation: linear/none, a: 1.85\n"
     ]
    }
   ],
   "source": [
    "# Пример решения Iris Classification\n",
    "# Настройка вывода для удобочитаемости\n",
    "np.set_printoptions(precision=2, suppress=True, threshold=6, edgeitems=1, linewidth=80)\n",
    "  \n",
    "# Пример использования\n",
    "iris = load_iris()\n",
    "X, y = iris.data, iris.target\n",
    "\n",
    "# One-hot кодирование меток\n",
    "encoder = OneHotEncoder(sparse_output=False)\n",
    "y = encoder.fit_transform(y.reshape(-1, 1))\n",
    "\n",
    "# Разделение данных на обучающую и тестовую выборки\n",
    "X_train, X_test, y_train, y_test = train_test_split(X, y, test_size=0.2)\n",
    "\n",
    "# Масштабирование данных\n",
    "scaler = StandardScaler()\n",
    "X_train_scaled = scaler.fit_transform(X_train)\n",
    "X_test_scaled = scaler.transform(X_test)\n",
    "\n",
    "# Размерность входных и выходных данных\n",
    "inputs_dim = X.shape[1]\n",
    "output_size = y.shape[1]\n",
    "\n",
    "nn = NeuralNetwork([\n",
    "    Layer(4, activation=swish),\n",
    "    Layer(output_size, activation=softmax)\n",
    "], inputs_dim=inputs_dim, loss='categorical_crossentropy', optimizer=Adam(learning_rate=0.01))\n",
    "\n",
    "nn.fit(X_train, y_train, epochs=10, validation_data=(X_test, y_test))\n",
    "\n",
    "# Предсказание на тестовых данных\n",
    "predictions = nn.predict(X_test)\n",
    "print()\n",
    "network_scores(X_test, y_test, predictions)  # только для классификации (в разработке)\n",
    "print()\n",
    "nn.summary()"
   ]
  }
 ],
 "metadata": {
  "kernelspec": {
   "display_name": "Python 3",
   "language": "python",
   "name": "python3"
  },
  "language_info": {
   "codemirror_mode": {
    "name": "ipython",
    "version": 3
   },
   "file_extension": ".py",
   "mimetype": "text/x-python",
   "name": "python",
   "nbconvert_exporter": "python",
   "pygments_lexer": "ipython3",
   "version": "3.11.2"
  }
 },
 "nbformat": 4,
 "nbformat_minor": 2
}
