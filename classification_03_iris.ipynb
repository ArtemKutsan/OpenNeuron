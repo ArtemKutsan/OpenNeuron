{
 "cells": [
  {
   "cell_type": "code",
   "execution_count": 3,
   "metadata": {},
   "outputs": [],
   "source": [
    "# Импорт библиотек \n",
    "import numpy as np\n",
    "\n",
    "from openneuron.units import Neuron, Unit\n",
    "from openneuron.layers import Layer\n",
    "from openneuron.models import NeuralNetwork\n",
    "from openneuron.optimizers import SGD, Adam\n",
    "from openneuron.losses import *\n",
    "from openneuron.activations import *\n",
    "from openneuron.utils import *\n",
    "\n",
    "from sklearn.datasets import load_iris\n",
    "from sklearn.model_selection import train_test_split\n",
    "from sklearn.preprocessing import StandardScaler\n",
    "from sklearn.preprocessing import OneHotEncoder"
   ]
  },
  {
   "cell_type": "code",
   "execution_count": 4,
   "metadata": {},
   "outputs": [
    {
     "name": "stdout",
     "output_type": "stream",
     "text": [
      "Training started with Overall Loss 4.7426 on Test Data\n",
      "Epoch 1/10, Loss: 3.2562, Validation Loss: 1.0455 on Test Data\n",
      "Epoch 2/10, Loss: 0.8124, Validation Loss: 0.5230 on Test Data\n",
      "Epoch 3/10, Loss: 0.5761, Validation Loss: 0.4082 on Test Data\n",
      "Epoch 4/10, Loss: 0.5129, Validation Loss: 0.3687 on Test Data\n",
      "Epoch 5/10, Loss: 0.4557, Validation Loss: 0.3104 on Test Data\n",
      "Epoch 6/10, Loss: 0.3910, Validation Loss: 0.2601 on Test Data\n",
      "Epoch 7/10, Loss: 0.3331, Validation Loss: 0.2152 on Test Data\n",
      "Epoch 8/10, Loss: 0.2738, Validation Loss: 0.1844 on Test Data\n",
      "Epoch 9/10, Loss: 0.2287, Validation Loss: 0.1916 on Test Data\n",
      "Epoch 10/10, Loss: 0.2291, Validation Loss: 0.1199 on Test Data\n",
      "Training completed with Overall Loss 0.1199\n",
      "\n",
      "Network scores:\n",
      "Incorrect Predictions (Significant Difference) on Test Data:\n",
      "Network inputs: [6.00 2.70 5.10 1.60], predicted: [0.01 0.41 0.58], true: [0 1 0], predicted class: 2, true class: 1\n",
      "Accuracy: 96.67%\n",
      "Precision: 0.97\n",
      "Recall: 0.97\n",
      "F1 Score: 0.97\n",
      "\n",
      "Info:\n",
      "Network type: \"Classification\", layers: 2, neurons: 7, optimizer: \"Adam\", epochs: 10, batch size: 1, loss function: \"Categorical Crossentropy\"\n",
      "Last forward:\n",
      "Layer 1, neurons: 4, inputs: [5.8 2.7 5.1 1.9], activation: swish, output: [ 0.43 -0.   -0.2  -0.27]\n",
      "Unit 1/4, inputs: [5.8 2.7 5.1 1.9], weights: [-0.15 -0.45 0.29 0.54], bias: 0.24, z: 0.65, activation: swish, a: 0.43\n",
      "Unit 2/4, inputs: [5.8 2.7 5.1 1.9], weights: [-0.26 0.54 -1.65 -1.42], bias: 0.94, z: -10.21, activation: swish, a: -0.0\n",
      "Unit 3/4, inputs: [5.8 2.7 5.1 1.9], weights: [0.83 0.66 -0.96 -1.56], bias: 0.73, z: -0.56, activation: swish, a: -0.2\n",
      "Unit 4/4, inputs: [5.8 2.7 5.1 1.9], weights: [-0.69 -0.42 0.71 0.79], bias: -1.06, z: -1.05, activation: swish, a: -0.27\n",
      "Layer 2, neurons: 3, inputs: [ 0.43 -0.   -0.2  -0.27], activation: softmax, output: [0.01 0.17 0.82]\n",
      "Unit 1/3, inputs: [0.43 -0.0 -0.2 -0.27], weights: [-0.03 -1.73 2.31 2.18], bias: -1.56, z: -2.64, activation: linear/none, a: -2.64\n",
      "Unit 2/3, inputs: [0.43 -0.0 -0.2 -0.27], weights: [-0.74 1.21 1.14 0.12], bias: 1.44, z: 0.86, activation: linear/none, a: 0.86\n",
      "Unit 3/3, inputs: [0.43 -0.0 -0.2 -0.27], weights: [-0.1 0.51 -3.5 -2.24], bias: 1.16, z: 2.43, activation: linear/none, a: 2.43\n"
     ]
    }
   ],
   "source": [
    "# Пример решения Iris Classification\n",
    "# Настройка вывода для удобочитаемости\n",
    "np.set_printoptions(precision=2, suppress=True, threshold=6, edgeitems=1, linewidth=80)\n",
    "  \n",
    "# Пример использования\n",
    "iris = load_iris()\n",
    "X, y = iris.data, iris.target\n",
    "\n",
    "# One-hot кодирование меток\n",
    "encoder = OneHotEncoder(sparse_output=False)\n",
    "y = encoder.fit_transform(y.reshape(-1, 1))\n",
    "\n",
    "# Разделение данных на обучающую и тестовую выборки\n",
    "X_train, X_test, y_train, y_test = train_test_split(X, y, test_size=0.2)\n",
    "\n",
    "# Масштабирование данных\n",
    "scaler = StandardScaler()\n",
    "X_train_scaled = scaler.fit_transform(X_train)\n",
    "X_test_scaled = scaler.transform(X_test)\n",
    "\n",
    "# Размерность входных и выходных данных\n",
    "inputs_dim = X.shape[1]\n",
    "output_size = y.shape[1]\n",
    "\n",
    "nn = NeuralNetwork([\n",
    "    Layer(4, activation=swish),\n",
    "    Layer(output_size, activation=softmax)\n",
    "], inputs_dim=inputs_dim, loss='categorical_crossentropy', optimizer=Adam(learning_rate=0.01))\n",
    "\n",
    "nn.fit(X_train, y_train, epochs=10, validation_data=(X_test, y_test))\n",
    "\n",
    "# Предсказание на тестовых данных\n",
    "predictions = nn.predict(X_test)\n",
    "print()\n",
    "network_scores(X_test, y_test, predictions)  # только для классификации (в разработке)\n",
    "print()\n",
    "nn.summary()"
   ]
  }
 ],
 "metadata": {
  "kernelspec": {
   "display_name": "Python 3",
   "language": "python",
   "name": "python3"
  },
  "language_info": {
   "codemirror_mode": {
    "name": "ipython",
    "version": 3
   },
   "file_extension": ".py",
   "mimetype": "text/x-python",
   "name": "python",
   "nbconvert_exporter": "python",
   "pygments_lexer": "ipython3",
   "version": "3.11.2"
  }
 },
 "nbformat": 4,
 "nbformat_minor": 2
}
