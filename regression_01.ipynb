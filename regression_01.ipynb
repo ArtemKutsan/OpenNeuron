{
 "cells": [
  {
   "cell_type": "code",
   "execution_count": 2,
   "metadata": {},
   "outputs": [],
   "source": [
    "# Импорт библиотек \n",
    "import numpy as np\n",
    "\n",
    "from openneuron.units import Neuron\n",
    "from openneuron.layers import Layer\n",
    "from openneuron.models import NeuralNetwork\n",
    "from openneuron.optimizers import SGD, Adam\n",
    "from openneuron.functions import *\n",
    "from openneuron.activations import *\n",
    "from openneuron.utils import *"
   ]
  },
  {
   "cell_type": "code",
   "execution_count": 3,
   "metadata": {},
   "outputs": [
    {
     "name": "stdout",
     "output_type": "stream",
     "text": [
      "Training started with Overall Loss 0.6595\n",
      "Epoch 1/100, Loss: 0.6595, Validation Loss: 0.6154\n",
      "Epoch 11/100, Loss: 0.1459, Validation Loss: 0.1278\n",
      "Epoch 21/100, Loss: 0.0580, Validation Loss: 0.0545\n",
      "Epoch 31/100, Loss: 0.0355, Validation Loss: 0.0341\n",
      "Epoch 41/100, Loss: 0.0254, Validation Loss: 0.0247\n",
      "Epoch 51/100, Loss: 0.0198, Validation Loss: 0.0194\n",
      "Epoch 61/100, Loss: 0.0162, Validation Loss: 0.0159\n",
      "Epoch 71/100, Loss: 0.0137, Validation Loss: 0.0135\n",
      "Epoch 81/100, Loss: 0.0119, Validation Loss: 0.0117\n",
      "Epoch 91/100, Loss: 0.0105, Validation Loss: 0.0103\n",
      "Epoch 100/100, Loss: 0.0094, Validation Loss: 0.0093\n",
      "Training completed with Overall Loss 0.0093\n",
      "Predictions:\n",
      "[[0.9907]]\n",
      "MSE on Test Data: 0.0001\n",
      "MAE on Test Data: 0.0093\n",
      "Network type: \"Regression\", layers: 2, neurons: 3, optimizer: \"SGD\" with momentum 0.3, epochs: 100, batch size: 1, loss function: \"Mean Absolute Error\"\n",
      "Layer 1, neurons: 2, activation: sigmoid\n",
      "Neuron 1, inputs: [1 0], weights: [ 2.4313 -0.12  ], z: 2.4313, activation: sigmoid, a: 0.9192\n",
      "Neuron 2, inputs: [1 0], weights: [-0.4054  0.13  ], z: -0.4054, activation: sigmoid, a: 0.4000\n",
      "Layer 2, neurons: 1, activation: sigmoid\n",
      "Neuron 3, inputs: [0.9192 0.4   ], weights: [5.0722 0.0024], z: 4.6632, activation: sigmoid, a: 0.9907\n"
     ]
    }
   ],
   "source": [
    "# Пример простой регрессии\n",
    "# Настройка вывода для удобочитаемости\n",
    "np.set_printoptions(precision=4, suppress=True, threshold=10, edgeitems=2, linewidth=80)\n",
    "\n",
    "# Простая регрессия\n",
    "X = np.array([[1, 0]])\n",
    "y = np.array([[1]])\n",
    "\n",
    "X_train, y_train = X, y\n",
    "X_test, y_test = X, y\n",
    "\n",
    "# Сеть с вручную установленными весами\n",
    "# Создание и обучение модели\n",
    "nn = NeuralNetwork([\n",
    "    Layer([\n",
    "        Neuron(weights=[0.45, -0.12], bias=None),\n",
    "        Neuron(weights=[0.78, 0.13], bias=None),\n",
    "    ], activation=sigmoid),\n",
    "    Layer([\n",
    "        Neuron(weights=[1.5, -2.3], bias=None)\n",
    "    ], activation=sigmoid)\n",
    "], inputs_dim=X_train.shape[1], loss='mae', optimizer=SGD(momentum=0.3))\n",
    "\n",
    "nn.fit(X_train, y_train, learning_rate=0.7, epochs=100, validation_data=(X_test, y_test))\n",
    "\n",
    "# Предсказание на тестовых данных\n",
    "predictions = nn.predict(X_test)\n",
    "print(f'Predictions:\\n{predictions}')\n",
    "mse_test = np.mean(np.square(predictions - y))\n",
    "mae_test = np.mean(np.abs(predictions - y_test))\n",
    "print(f\"MSE on Test Data: {mse_test:.4f}\")\n",
    "print(f\"MAE on Test Data: {mae_test:.4f}\")\n",
    "\n",
    "network_summary(nn)"
   ]
  }
 ],
 "metadata": {
  "kernelspec": {
   "display_name": "Python 3",
   "language": "python",
   "name": "python3"
  },
  "language_info": {
   "codemirror_mode": {
    "name": "ipython",
    "version": 3
   },
   "file_extension": ".py",
   "mimetype": "text/x-python",
   "name": "python",
   "nbconvert_exporter": "python",
   "pygments_lexer": "ipython3",
   "version": "3.11.2"
  }
 },
 "nbformat": 4,
 "nbformat_minor": 2
}
