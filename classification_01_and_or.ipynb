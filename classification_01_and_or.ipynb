{
 "cells": [
  {
   "cell_type": "code",
   "execution_count": 4,
   "metadata": {},
   "outputs": [],
   "source": [
    "# Импорт библиотек \n",
    "import numpy as np\n",
    "\n",
    "from openneuron.units import Neuron\n",
    "from openneuron.layers import Layer\n",
    "from openneuron.models import NeuralNetwork\n",
    "from openneuron.optimizers import SGD, Adam\n",
    "from openneuron.functions import *\n",
    "from openneuron.activations import *\n",
    "from openneuron.utils import *"
   ]
  },
  {
   "cell_type": "code",
   "execution_count": 36,
   "metadata": {},
   "outputs": [
    {
     "name": "stdout",
     "output_type": "stream",
     "text": [
      "Training started with Overall Loss 0.2905\n",
      "Epoch 1/10, Loss: 0.3200, Validation Loss: 0.2291\n",
      "Epoch 2/10, Loss: 0.2359, Validation Loss: 0.2155\n",
      "Epoch 3/10, Loss: 0.2148, Validation Loss: 0.2031\n",
      "Epoch 4/10, Loss: 0.1980, Validation Loss: 0.1892\n",
      "Epoch 5/10, Loss: 0.1808, Validation Loss: 0.1733\n",
      "Epoch 6/10, Loss: 0.1626, Validation Loss: 0.1563\n",
      "Epoch 7/10, Loss: 0.1457, Validation Loss: 0.1410\n",
      "Epoch 8/10, Loss: 0.1331, Validation Loss: 0.1292\n",
      "Epoch 9/10, Loss: 0.1250, Validation Loss: 0.1200\n",
      "Epoch 10/10, Loss: 0.1184, Validation Loss: 0.1111\n",
      "Training completed with Overall Loss 0.1111\n",
      "Predictions:\n",
      "[[0.]\n",
      " [0.]\n",
      " [0.]\n",
      " [1.]]\n",
      "Network type: \"Regression\", layers: 1, neurons: 1, optimizer: \"Adam\", epochs: 10, batch size: 1, loss function: \"Mean Squared Error\"\n",
      "Layer 1, neurons: 1, activation: sigmoid\n",
      "Neuron 1, inputs: [1 1], weights: [1.03 0.97], bias: -1.5794, z: 0.4210, activation: sigmoid, a: 0.6037\n"
     ]
    }
   ],
   "source": [
    "# Пример решения AND Classificator\n",
    "# Настройка вывода для удобочитаемости\n",
    "np.set_printoptions(precision=2, suppress=True, threshold=8, edgeitems=1, linewidth=80)\n",
    "\n",
    "# XOR Categorical\n",
    "X = np.array([[0, 0], \n",
    "              [0, 1],\n",
    "              [1, 0],\n",
    "              [1, 1]])\n",
    "y = np.array([[0],\n",
    "              [0],\n",
    "              [0],\n",
    "              [1]])\n",
    "\n",
    "X_train, y_train = X, y\n",
    "X_test, y_test = X, y\n",
    "\n",
    "# Размерность входных и выходных данных\n",
    "inputs_dim = X_train.shape[1]\n",
    "output_size = y_train.shape[1]\n",
    "\n",
    "# Создание и обучение модели\n",
    "nn = NeuralNetwork([\n",
    "    Layer(1, activation=sigmoid)\n",
    "], inputs_dim=inputs_dim, loss='mse', optimizer=Adam())\n",
    "\n",
    "nn.fit(X_train, y_train, learning_rate=1, epochs=10, shuffle=False)\n",
    "\n",
    "# Предсказание на тестовых данных\n",
    "predictions = nn.predict(X_test)\n",
    "print(f'Predictions:\\n{np.round(predictions)}')\n",
    "\n",
    "network_summary(nn)"
   ]
  },
  {
   "cell_type": "code",
   "execution_count": 39,
   "metadata": {},
   "outputs": [
    {
     "name": "stdout",
     "output_type": "stream",
     "text": [
      "Training started with Overall Loss 0.3297\n",
      "Epoch 1/10, Loss: 0.3480, Validation Loss: 0.2291\n",
      "Epoch 2/10, Loss: 0.1596, Validation Loss: 0.1181\n",
      "Epoch 3/10, Loss: 0.0961, Validation Loss: 0.0896\n",
      "Epoch 4/10, Loss: 0.0830, Validation Loss: 0.0842\n",
      "Epoch 5/10, Loss: 0.0821, Validation Loss: 0.0814\n",
      "Epoch 6/10, Loss: 0.0807, Validation Loss: 0.0763\n",
      "Epoch 7/10, Loss: 0.0762, Validation Loss: 0.0688\n",
      "Epoch 8/10, Loss: 0.0691, Validation Loss: 0.0599\n",
      "Epoch 9/10, Loss: 0.0604, Validation Loss: 0.0511\n",
      "Epoch 10/10, Loss: 0.0518, Validation Loss: 0.0435\n",
      "Training completed with Overall Loss 0.0435\n",
      "Predictions:\n",
      "[[0.]\n",
      " [1.]\n",
      " [1.]\n",
      " [1.]]\n",
      "Network type: \"Regression\", layers: 1, neurons: 1, optimizer: \"Adam\", epochs: 10, batch size: 1, loss function: \"Mean Squared Error\"\n",
      "Layer 1, neurons: 1, activation: sigmoid\n",
      "Neuron 1, inputs: [1 1], weights: [2.42 2.35], bias: -0.5334, z: 4.2351, activation: sigmoid, a: 0.9857\n"
     ]
    }
   ],
   "source": [
    "# Пример решения OR Classificator\n",
    "# Настройка вывода для удобочитаемости\n",
    "np.set_printoptions(precision=2, suppress=True, threshold=8, edgeitems=1, linewidth=80)\n",
    "\n",
    "# XOR Categorical\n",
    "X = np.array([[0, 0], \n",
    "              [0, 1],\n",
    "              [1, 0],\n",
    "              [1, 1]])\n",
    "y = np.array([[0],\n",
    "              [1],\n",
    "              [1],\n",
    "              [1]])\n",
    "\n",
    "X_train, y_train = X, y\n",
    "X_test, y_test = X, y\n",
    "\n",
    "# Размерность входных и выходных данных\n",
    "inputs_dim = X_train.shape[1]\n",
    "output_size = y_train.shape[1]\n",
    "\n",
    "# Создание и обучение модели\n",
    "nn = NeuralNetwork([\n",
    "    Layer(1, activation=sigmoid)\n",
    "], inputs_dim=inputs_dim, loss='mse', optimizer=Adam())\n",
    "\n",
    "nn.fit(X_train, y_train, learning_rate=1, epochs=10, shuffle=False)\n",
    "\n",
    "# Предсказание на тестовых данных\n",
    "predictions = nn.predict(X_test)\n",
    "print(f'Predictions:\\n{np.round(predictions)}')\n",
    "\n",
    "network_summary(nn)"
   ]
  }
 ],
 "metadata": {
  "kernelspec": {
   "display_name": "Python 3",
   "language": "python",
   "name": "python3"
  },
  "language_info": {
   "codemirror_mode": {
    "name": "ipython",
    "version": 3
   },
   "file_extension": ".py",
   "mimetype": "text/x-python",
   "name": "python",
   "nbconvert_exporter": "python",
   "pygments_lexer": "ipython3",
   "version": "3.11.2"
  }
 },
 "nbformat": 4,
 "nbformat_minor": 2
}
